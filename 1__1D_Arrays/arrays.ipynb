{
 "cells": [
  {
   "cell_type": "markdown",
   "metadata": {},
   "source": [
    "1. Reverse an array"
   ]
  },
  {
   "cell_type": "code",
   "execution_count": 1,
   "metadata": {},
   "outputs": [
    {
     "name": "stdout",
     "output_type": "stream",
     "text": [
      "[5, 4, 3, 2, 1]\n"
     ]
    }
   ],
   "source": [
    "\n",
    "arr=[1,2,3,4,5]\n",
    "i=0\n",
    "j=len(arr)-1\n",
    "while i<j:\n",
    "    t=arr[i]\n",
    "    arr[i]=arr[j]\n",
    "    arr[j]=t\n",
    "    i+=1\n",
    "    j-=1\n",
    "print(arr)\n"
   ]
  },
  {
   "cell_type": "markdown",
   "metadata": {},
   "source": [
    "2. max and min element in array"
   ]
  },
  {
   "cell_type": "code",
   "execution_count": 3,
   "metadata": {},
   "outputs": [
    {
     "name": "stdout",
     "output_type": "stream",
     "text": [
      "max= 23 min= 1\n"
     ]
    }
   ],
   "source": [
    "\n",
    "arr=[7,5,3,1,23,6,9,10]\n",
    "n=len(arr)\n",
    "\n",
    "min=arr[0]\n",
    "max=arr[0]\n",
    "i=1\n",
    "while i<n:\n",
    "    if arr[i]>max:\n",
    "        max=arr[i]\n",
    "    if arr[i]<min:\n",
    "        min=arr[i]\n",
    "    i+=1\n",
    "print('max=',max,'min=',min)\n"
   ]
  },
  {
   "cell_type": "markdown",
   "metadata": {},
   "source": [
    "3. kth max and min element of array"
   ]
  },
  {
   "cell_type": "code",
   "execution_count": 5,
   "metadata": {},
   "outputs": [
    {
     "name": "stdout",
     "output_type": "stream",
     "text": [
      "[1, 3, 5, 6, 7, 9, 10, 23]\n",
      "kth min= 5 kth max= 9\n"
     ]
    }
   ],
   "source": [
    "\n",
    "arr=[7,5,3,1,23,6,9,10]\n",
    "n=len(arr)\n",
    "k=3\n",
    "for i in range(n):\n",
    "    j=0\n",
    "    for j in range(0,n-i-1):\n",
    "        if arr[j]>arr[j+1]:\n",
    "            arr[j],arr[j+1] = arr[j+1],arr[j]       \n",
    "print(arr)\n",
    "print('kth min=',arr[k-1],'kth max=',arr[n-k])"
   ]
  },
  {
   "cell_type": "markdown",
   "metadata": {},
   "source": [
    "4. sort array with 0,1 and 2 without sorting algorithm"
   ]
  },
  {
   "cell_type": "code",
   "execution_count": 14,
   "metadata": {},
   "outputs": [
    {
     "name": "stdout",
     "output_type": "stream",
     "text": [
      "[0, 0, 0, 0, 1, 1, 1, 1, 2, 2, 2]\n"
     ]
    }
   ],
   "source": [
    "\n",
    "a=[1,0,0,2,1,0,1,2,2,1,0]\n",
    "n=len(a)\n",
    "front=0\n",
    "back=n-1\n",
    "result = [-1 for _ in range(n)]\n",
    "\n",
    "for i in range(n):\n",
    "    if a[i] == 0:\n",
    "        result[front] = a[i]\n",
    "        front += 1\n",
    "    elif a[i] == 2:\n",
    "        result[back] = a[i]\n",
    "        back -= 1\n",
    "    #print(front,back)\n",
    "    #print(result)\n",
    "\n",
    "while front<=back:\n",
    "    result[front]=1\n",
    "    front += 1\n",
    "\n",
    "print(result)"
   ]
  },
  {
   "cell_type": "code",
   "execution_count": 15,
   "metadata": {},
   "outputs": [
    {
     "name": "stdout",
     "output_type": "stream",
     "text": [
      "[0, 0, 0, 0, 1, 1, 1, 1, 2, 2, 2]\n"
     ]
    }
   ],
   "source": [
    "#sort array with 0,1 and 2 without sorting algorithm\n",
    "# this can be solved using dutch national flag algo\n",
    "a=[1,0,0,2,1,0,1,2,2,1,0]\n",
    "n=len(a)\n",
    "\n",
    "front=0\n",
    "mid=0\n",
    "back=n-1\n",
    "\n",
    "while mid<=back:\n",
    "    if a[mid]==0:\n",
    "        a[front],a[mid] = a[mid],a[front]\n",
    "        mid+=1\n",
    "        front+=1\n",
    "    \n",
    "    elif a[mid]==1:\n",
    "        mid+=1\n",
    "\n",
    "    else:\n",
    "        a[mid],a[back]=a[back],a[mid]\n",
    "        back-=1\n",
    "\n",
    "print(a)"
   ]
  },
  {
   "cell_type": "markdown",
   "metadata": {},
   "source": [
    "5. move negative elements to one side of array const space"
   ]
  },
  {
   "cell_type": "code",
   "execution_count": 11,
   "metadata": {},
   "outputs": [
    {
     "name": "stdout",
     "output_type": "stream",
     "text": [
      "[-5, -6, -2, -4, -87, 1, 3, 34, 7, 6, 9, 12]\n"
     ]
    }
   ],
   "source": [
    "\n",
    "#1.sort-O(nlogn) 2.extra array-size increase 3.partition of quicksort-O(n) 4.two pointer - O(n) 5.Dutch national flag algo\n",
    "#3. partition approach\n",
    "a=[7,-5,3,-6,9,1,-2,34,-4,6,-87,12]\n",
    "n=len(a)\n",
    "j=0\n",
    "\n",
    "for i in range(n-1):\n",
    "    if a[i]<0:\n",
    "        a[i],a[j] = a[j],a[i]\n",
    "        j+=1\n",
    "print(a)\n"
   ]
  },
  {
   "cell_type": "code",
   "execution_count": 12,
   "metadata": {},
   "outputs": [
    {
     "name": "stdout",
     "output_type": "stream",
     "text": [
      "[-87, -5, -4, -6, -2, 1, 9, 34, 3, 6, 7, 12]\n"
     ]
    }
   ],
   "source": [
    "#4.to pointer approach\n",
    "a=[7,-5,3,-6,9,1,-2,34,-4,6,-87,12]         #f + b +   b--   #f + b - swap f++ b--    #f- b+ f++ b--    #f- b-  f++\n",
    "n=len(a)\n",
    "\n",
    "f=0\n",
    "b=n-1\n",
    "\n",
    "while f<=b:\n",
    "    if(a[f]>0 and a[b]>0):\n",
    "        b-=1\n",
    "    elif a[f]>0 and a[b]<0 :\n",
    "        a[f],a[b]=a[b],a[f]\n",
    "        f+=1\n",
    "        b-=1\n",
    "    elif a[f]<0 and a[b]>0:\n",
    "        f+=1\n",
    "        b-=1\n",
    "    else:\n",
    "        f+=1\n",
    "print(a)"
   ]
  },
  {
   "cell_type": "markdown",
   "metadata": {},
   "source": [
    "* Dutch National Flag Algorithm"
   ]
  },
  {
   "cell_type": "code",
   "execution_count": 16,
   "metadata": {},
   "outputs": [
    {
     "name": "stdout",
     "output_type": "stream",
     "text": [
      "[-87, -5, -4, -6, -2, 1, 9, 34, 3, 6, 7, 12]\n"
     ]
    }
   ],
   "source": [
    "#5. DNF approach \n",
    "a=[7,-5,3,-6,9,1,-2,34,-4,6,-87,12]        \n",
    "n=len(a)\n",
    "\n",
    "front=0\n",
    "back=n-1\n",
    "\n",
    "while front<=back:\n",
    "    if a[front] <0:\n",
    "        front+=1\n",
    "    elif a[back]>0:\n",
    "        back-=1\n",
    "    else:\n",
    "        a[front],a[back]=a[back],a[front]\n",
    "print(a)"
   ]
  },
  {
   "cell_type": "markdown",
   "metadata": {},
   "source": [
    "6. find union and intersection of two sorted array"
   ]
  },
  {
   "cell_type": "code",
   "execution_count": 24,
   "metadata": {},
   "outputs": [
    {
     "name": "stdout",
     "output_type": "stream",
     "text": [
      "[1, 2, 3, 4, 5, 6, 7, 8, 9, 10]\n",
      "[1, 4, 6]\n"
     ]
    }
   ],
   "source": [
    "\n",
    "#time complex ---  O(M X N)\n",
    "a1 = [1,2,3,4,5,6,7]    #union - [1,2,3,4,5,6,7,8,9,10]\n",
    "a2 = [1,4,6,8,9,10]     #inter - [1,4,6]\n",
    "n=len(a1)\n",
    "m=len(a2)\n",
    "inter = []\n",
    "for i in range(n):\n",
    "    for j in range(m):\n",
    "        if a1[i] == a2[j]:\n",
    "            inter.append(a1[i])\n",
    "\n",
    "union = a1\n",
    "\n",
    "for i in range(m):\n",
    "    flag=0\n",
    "    for j in range(len(inter)):\n",
    "        if a2[i] == inter[j]:\n",
    "            flag=1\n",
    "            break\n",
    "    if flag == 0:\n",
    "        union.append(a2[i])\n",
    "\n",
    "print(union)\n",
    "print(inter)"
   ]
  },
  {
   "cell_type": "code",
   "execution_count": 28,
   "metadata": {},
   "outputs": [
    {
     "name": "stdout",
     "output_type": "stream",
     "text": [
      "[1, 2, 3, 4, 5, 6, 7, 8, 9, 10]\n",
      "[1, 4, 6]\n"
     ]
    }
   ],
   "source": [
    "#find union and intersection of two sorted array\n",
    "#time complex ---  O(M + N) each for union and intersection\n",
    "a1 = [1,2,3,4,5,6,7]    #union - [1,2,3,4,5,6,7,8,9,10]\n",
    "a2 = [1,4,6,8,9,10]     #inter - [1,4,6]\n",
    "n=len(a1)\n",
    "m=len(a2)\n",
    "# code union\n",
    "union = []\n",
    "i,j=0,0\n",
    "while i<n and j<m:\n",
    "    if a1[i]<a2[j]:\n",
    "        union.append(a1[i])\n",
    "        i+=1\n",
    "    elif a1[i]>a2[j]:\n",
    "        union.append(a2[j])\n",
    "        j+=1\n",
    "    else:\n",
    "        union.append(a1[i])\n",
    "        i+=1\n",
    "        j+=1\n",
    "\n",
    "while i<n:\n",
    "    union.append(a1[i])\n",
    "    i+=1\n",
    "while j<m:\n",
    "    union.append(a2[j])\n",
    "    j+=1\n",
    "print(union)\n",
    "\n",
    "#code for intersection\n",
    "inter = []\n",
    "i,j=0,0\n",
    "while i<n and j<m:\n",
    "    if a1[i]<a2[j]:\n",
    "        i+=1\n",
    "    elif a1[i]>a2[j]:\n",
    "        j+=1\n",
    "    else:\n",
    "        inter.append(a1[i])\n",
    "        i+=1\n",
    "        j+=1\n",
    "\n",
    "print(inter)"
   ]
  },
  {
   "cell_type": "code",
   "execution_count": 29,
   "metadata": {},
   "outputs": [
    {
     "name": "stdout",
     "output_type": "stream",
     "text": [
      "[1, 2, 3, 4, 5, 6, 7, 8, 9, 10]\n",
      "[1, 4, 6]\n"
     ]
    }
   ],
   "source": [
    "#find union and intersection of two sorted array\n",
    "#time complex ---  O(M + N) each for union and intersection\n",
    "a1 = [1,2,3,4,5,6,7]    #union - [1,2,3,4,5,6,7,8,9,10]\n",
    "a2 = [1,4,6,8,9,10]     #inter - [1,4,6]\n",
    "n=len(a1)\n",
    "m=len(a2)\n",
    "# code union\n",
    "union = []\n",
    "inter = []\n",
    "i,j=0,0\n",
    "while i<n and j<m:\n",
    "    if a1[i]<a2[j]:\n",
    "        union.append(a1[i])\n",
    "        i+=1\n",
    "    elif a1[i]>a2[j]:\n",
    "        union.append(a2[j])\n",
    "        j+=1\n",
    "    else:\n",
    "        union.append(a1[i])\n",
    "        inter.append(a1[i]) #code for intersection is just here\n",
    "        i+=1\n",
    "        j+=1\n",
    "\n",
    "while i<n:\n",
    "    union.append(a1[i])\n",
    "    i+=1\n",
    "while j<m:\n",
    "    union.append(a2[j])\n",
    "    j+=1\n",
    "\n",
    "print(union)\n",
    "print(inter)"
   ]
  },
  {
   "cell_type": "markdown",
   "metadata": {},
   "source": [
    "7. rotate a array left or right for k number of steps"
   ]
  },
  {
   "cell_type": "code",
   "execution_count": 38,
   "metadata": {},
   "outputs": [
    {
     "name": "stdout",
     "output_type": "stream",
     "text": [
      "[2, 3, 4, 5, 6, 7, 8, 9, 10, 1]\n",
      "[10, 1, 2, 3, 4, 5, 6, 7, 8, 9]\n"
     ]
    }
   ],
   "source": [
    "\n",
    "#time complexity is O(N)\n",
    "a= [1, 2, 3, 4, 5, 6, 7, 8, 9, 10]\n",
    "n=len(a)\n",
    "k = 1\n",
    "res_left=[]\n",
    "res_right=[]\n",
    "for i in range(n):\n",
    "    res_left.append(a[(i+k)%n])\n",
    "    res_right.append(a[(i+(n-k))%n])\n",
    "print(res_left)\n",
    "print(res_right)"
   ]
  },
  {
   "cell_type": "code",
   "execution_count": 37,
   "metadata": {},
   "outputs": [
    {
     "name": "stdout",
     "output_type": "stream",
     "text": [
      "[1, 2, 3, 4, 5, 6, 7, 8, 9, 0]\n",
      "[9, 0, 1, 2, 3, 4, 5, 6, 7, 8]\n"
     ]
    }
   ],
   "source": [
    "n=10\n",
    "k=1\n",
    "l,r=[],[]\n",
    "for i in range(n):\n",
    "    l.append((i+k)%n)\n",
    "    r.append((i+(n-k))%n)\n",
    "print(l)\n",
    "print(r)"
   ]
  },
  {
   "cell_type": "markdown",
   "metadata": {},
   "source": [
    "8. find maximum sum of contiguous sub array"
   ]
  },
  {
   "cell_type": "code",
   "execution_count": 50,
   "metadata": {},
   "outputs": [
    {
     "name": "stdout",
     "output_type": "stream",
     "text": [
      "6\n"
     ]
    }
   ],
   "source": [
    "\n",
    "#can be done in O(n^3)\n",
    "import sys\n",
    "\n",
    "#a=[7,-5,3,-6,9,1,-2,34,-4,6,-87,12]\n",
    "a=[-2,1,-3,4,-1,2,1,-5,4]\n",
    "n=len(a)\n",
    "max_sum = -sys.maxsize - 1\n",
    "\n",
    "for i in range(n):\n",
    "    for j in range(i,n):\n",
    "        sum = 0\n",
    "        for k in range(i,j):\n",
    "            sum += a[k]\n",
    "            if max_sum < sum:\n",
    "                max_sum = sum\n",
    "print(max_sum)\n"
   ]
  },
  {
   "cell_type": "code",
   "execution_count": 51,
   "metadata": {},
   "outputs": [
    {
     "name": "stdout",
     "output_type": "stream",
     "text": [
      "6\n"
     ]
    }
   ],
   "source": [
    "#further optimised to O(n^2)\n",
    "\n",
    "import sys\n",
    "\n",
    "#a=[7,-5,3,-6,9,1,-2,34,-4,6,-87,12]\n",
    "a=[-2,1,-3,4,-1,2,1,-5,4]\n",
    "n=len(a)\n",
    "max_sum = -sys.maxsize - 1\n",
    "\n",
    "for i in range(n):\n",
    "    sum=0\n",
    "    for j in range(i,n):\n",
    "        sum += a[j]\n",
    "        if max_sum < sum:\n",
    "                max_sum = sum\n",
    "print(max_sum)\n"
   ]
  },
  {
   "cell_type": "markdown",
   "metadata": {},
   "source": [
    "* Kadane's Algorithm"
   ]
  },
  {
   "cell_type": "code",
   "execution_count": 3,
   "metadata": {},
   "outputs": [
    {
     "name": "stdout",
     "output_type": "stream",
     "text": [
      "6\n"
     ]
    }
   ],
   "source": [
    "#further optimised to linear time O(N)\n",
    "#kadane's algorithm\n",
    "#1. initialize sum = 0 and max_sum as first element a[0]\n",
    "#2. loop thorugh the array add a[i] to sum\n",
    "#3. check if sum > max_sum then swap else leave\n",
    "#4. if sum is <0 then sum=0\n",
    "from sys import maxsize\n",
    "a=[-2,1,-3,4,-1,2,1,-5,4]\n",
    "n=len(a)\n",
    "sum=0\n",
    "max_sum = -maxsize - 1\n",
    "for i in range(n):\n",
    "    sum += a[i]\n",
    "    if sum > max_sum:\n",
    "        max_sum = sum\n",
    "    if sum <0:\n",
    "        sum=0\n",
    "print(max_sum)\n"
   ]
  },
  {
   "cell_type": "markdown",
   "metadata": {},
   "source": [
    "9. Minimize the maximum diffrence between heights"
   ]
  },
  {
   "cell_type": "code",
   "execution_count": 17,
   "metadata": {},
   "outputs": [
    {
     "name": "stdout",
     "output_type": "stream",
     "text": [
      "5\n"
     ]
    }
   ],
   "source": [
    "\n",
    "#a = [3, 16, 12, 9, 20]\n",
    "a=[8,10,1,5]\n",
    "k = 2\n",
    "n=len(a)\n",
    "a.sort()\n",
    "result = a[n-1]-a[0]\n",
    "maxi = a[n-1] - k\n",
    "mini = a[0] + k\n",
    "\n",
    "for i in range(n-1):\n",
    "    mx = max(maxi,a[i]+k)\n",
    "    mi = min(mini,a[i+1]-k)\n",
    "    if result < 0:\n",
    "        continue\n",
    "    result = min(result,mx-mi)\n",
    "\n",
    "print(result)\n"
   ]
  },
  {
   "cell_type": "markdown",
   "metadata": {},
   "source": [
    "10. Minimum number of jumps to reach end of an array"
   ]
  },
  {
   "cell_type": "code",
   "execution_count": 3,
   "metadata": {},
   "outputs": [
    {
     "name": "stdout",
     "output_type": "stream",
     "text": [
      "3\n"
     ]
    }
   ],
   "source": [
    "a=[1, 3, 5, 8, 9, 2, 6, 7, 6, 8, 9]\n",
    "n=len(a)\n",
    "\n",
    "def jumps(a,n):\n",
    "    i=1\n",
    "    mr,steps,jump = a[0],a[0],1\n",
    "\n",
    "    if n == 1:\n",
    "        return 0\n",
    "    if a[0] == 0:\n",
    "        return -1\n",
    "    while(i<n):\n",
    "        if i == n-1:\n",
    "            return jump;\n",
    "        mr = max(mr,i+a[i])\n",
    "        steps -= 1\n",
    "        if steps == 0:\n",
    "            jump+=1\n",
    "            if i >= mr:\n",
    "                return -1\n",
    "            steps = mr - i\n",
    "        i+=1\n",
    "    return jump\n",
    "\n",
    "jmp = jumps(a,n)\n",
    "print(jmp)"
   ]
  },
  {
   "cell_type": "code",
   "execution_count": null,
   "metadata": {},
   "outputs": [],
   "source": []
  },
  {
   "cell_type": "markdown",
   "metadata": {},
   "source": []
  }
 ],
 "metadata": {
  "kernelspec": {
   "display_name": "Python 3.10.5 64-bit",
   "language": "python",
   "name": "python3"
  },
  "language_info": {
   "codemirror_mode": {
    "name": "ipython",
    "version": 3
   },
   "file_extension": ".py",
   "mimetype": "text/x-python",
   "name": "python",
   "nbconvert_exporter": "python",
   "pygments_lexer": "ipython3",
   "version": "3.10.5"
  },
  "orig_nbformat": 4,
  "vscode": {
   "interpreter": {
    "hash": "369f2c481f4da34e4445cda3fffd2e751bd1c4d706f27375911949ba6bb62e1c"
   }
  }
 },
 "nbformat": 4,
 "nbformat_minor": 2
}
